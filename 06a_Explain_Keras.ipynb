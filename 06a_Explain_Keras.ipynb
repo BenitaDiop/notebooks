{
 "cells": [
  {
   "cell_type": "code",
   "execution_count": null,
   "metadata": {},
   "outputs": [],
   "source": [
    "# Reference: https://github.com/marcoancona/DeepExplain/blob/master/examples/mint_cnn_keras.ipynb\n",
    "import sys, os\n",
    "import numpy as np\n",
    "\n",
    "import keras\n",
    "from keras.datasets import mnist\n",
    "from keras.models import Sequential, Model, load_model, model_from_yaml\n",
    "from keras.layers import Dense, Dropout, Flatten, Activation\n",
    "from keras.layers import Conv2D, MaxPooling2D\n",
    "from keras import backend as K\n",
    "import tensorflow as tf\n",
    "import matplotlib.pyplot as plt\n",
    "\n",
    "# import \"Skater\" related functions\n",
    "from skater.util.image_ops import load_image, show_image, normalize, add_noise, flip_pixels, image_transformation\n",
    "from skater.util.image_ops import in_between, greater_than, greater_than_or_equal, equal_to\n",
    "from skater.core.local_interpretation.dnni.deep_interpreter import DeepInterpreter\n",
    "from skater.core.visualizer.image_relevance_visualizer import visualize"
   ]
  },
  {
   "cell_type": "code",
   "execution_count": null,
   "metadata": {},
   "outputs": [],
   "source": [
    "# Create a Tensorflow session and register it with Keras. Keras will use this session to initialize all the variables\n",
    "# Reference: https://blog.keras.io/keras-as-a-simplified-interface-to-tensorflow-tutorial.html\n",
    "sess = tf.Session()\n",
    "K.set_session(sess)"
   ]
  },
  {
   "cell_type": "markdown",
   "metadata": {},
   "source": [
    "### Data Transformation"
   ]
  },
  {
   "cell_type": "code",
   "execution_count": null,
   "metadata": {},
   "outputs": [],
   "source": [
    "# Dataset: \n",
    "# The MNIST dataset has 60,000 training examples, and a test set of 10,000 examples.\n",
    "# For more details: http://yann.lecun.com/exdb/mnist/\n",
    "\n",
    "batch_size = 128\n",
    "num_classes = 10\n",
    "epochs = 3\n",
    "\n",
    "# input image dimensions\n",
    "img_rows, img_cols = 28, 28\n",
    "\n",
    "# the data, shuffled and split between train and test sets\n",
    "(x_train, y_train), (x_test, y_test) = mnist.load_data()\n",
    "\n",
    "if K.image_data_format() == 'channels_first':\n",
    "    x_train = x_train.reshape(x_train.shape[0], 1, img_rows, img_cols)\n",
    "    x_test = x_test.reshape(x_test.shape[0], 1, img_rows, img_cols)\n",
    "    input_shape = (1, img_rows, img_cols)\n",
    "else:\n",
    "    x_train = x_train.reshape(x_train.shape[0], img_rows, img_cols, 1)\n",
    "    x_test = x_test.reshape(x_test.shape[0], img_rows, img_cols, 1)\n",
    "    input_shape = (img_rows, img_cols, 1)\n",
    "\n",
    "x_train = x_train.astype('float32')\n",
    "x_test = x_test.astype('float32')\n",
    "x_train /= 255\n",
    "x_test /= 255\n",
    "x_train = (x_train - 0.5) * 2\n",
    "x_test = (x_test - 0.5) * 2\n",
    "print('x_train shape:', x_train.shape)\n",
    "print(x_train.shape[0], 'train samples')\n",
    "print(x_test.shape[0], 'test samples')\n",
    "\n",
    "# convert class vectors to binary class matrices\n",
    "y_train = keras.utils.to_categorical(y_train, num_classes)\n",
    "y_test = keras.utils.to_categorical(y_test, num_classes)"
   ]
  },
  {
   "cell_type": "markdown",
   "metadata": {},
   "source": [
    "### Train a model"
   ]
  },
  {
   "cell_type": "code",
   "execution_count": null,
   "metadata": {},
   "outputs": [],
   "source": [
    "# Build and train a network.\n",
    "model = Sequential()\n",
    "model.add(Conv2D(32, kernel_size=(3, 3),\n",
    "                 activation='relu',\n",
    "                 input_shape=input_shape))\n",
    "model.add(Conv2D(64, (3, 3), activation='relu'))\n",
    "model.add(MaxPooling2D(pool_size=(2, 2)))\n",
    "model.add(Dropout(0.25))\n",
    "model.add(Flatten())\n",
    "model.add(Dense(128, activation='relu'))\n",
    "model.add(Dropout(0.5))\n",
    "model.add(Dense(num_classes))\n",
    "model.add(Activation('softmax')) \n",
    "\n",
    "model.compile(loss=keras.losses.categorical_crossentropy,\n",
    "              optimizer=keras.optimizers.Adadelta(),\n",
    "              metrics=['accuracy'])\n",
    "\n",
    "model.fit(x_train, y_train,\n",
    "          batch_size=batch_size,\n",
    "          epochs=epochs,\n",
    "          verbose=1,\n",
    "          validation_data=(x_test, y_test))"
   ]
  },
  {
   "cell_type": "markdown",
   "metadata": {},
   "source": [
    "### Evaluating the model"
   ]
  },
  {
   "cell_type": "code",
   "execution_count": null,
   "metadata": {},
   "outputs": [],
   "source": [
    "score_train = model.evaluate(x_train, y_train)\n",
    "score_test = model.evaluate(x_test, y_test, verbose=0)\n",
    "print(\"Test loss: {}\".format(score_test[0]))\n",
    "print(\"Train accuracy: {}\".format(score_train[1]))\n",
    "print('Test accuracy:', score_test[1])"
   ]
  },
  {
   "cell_type": "markdown",
   "metadata": {},
   "source": [
    "### Quick peek at the original images"
   ]
  },
  {
   "cell_type": "code",
   "execution_count": null,
   "metadata": {},
   "outputs": [],
   "source": [
    "%matplotlib inline\n",
    "xs = x_test[100:110]\n",
    "ys = y_test[100:110]\n",
    "\n",
    "n_cols = 2\n",
    "n_rows = int(len(xs)/2)\n",
    "plt.figure(figsize=(3*n_cols, 3*n_rows))\n",
    "for i in range(len(xs)):\n",
    "    plt.subplot(5, 2, i+1)\n",
    "    plt.imshow(xs[i].reshape(28,28), cmap='gray')"
   ]
  },
  {
   "cell_type": "code",
   "execution_count": null,
   "metadata": {},
   "outputs": [],
   "source": [
    "model.summary()"
   ]
  },
  {
   "cell_type": "markdown",
   "metadata": {},
   "source": [
    "### Persist the model for future use"
   ]
  },
  {
   "cell_type": "code",
   "execution_count": null,
   "metadata": {},
   "outputs": [],
   "source": [
    "# Persist the mode\n",
    "model_yaml = model.to_yaml()\n",
    "with open(\"model_mnist_cnn_3.yaml\", \"w\") as yaml_file:\n",
    "    yaml_file.write(model_yaml)\n",
    "# serialize weights to HDF5\n",
    "model.save_weights(\"model_mnist_cnn_3.h5\")\n",
    "print(\"Saved model to disk\")\n",
    "yaml_file.close()"
   ]
  },
  {
   "cell_type": "markdown",
   "metadata": {},
   "source": [
    "### Load the saved model"
   ]
  },
  {
   "cell_type": "code",
   "execution_count": null,
   "metadata": {},
   "outputs": [],
   "source": [
    "# Load the model\n",
    "yaml_file = open('model_mnist_cnn_3.yaml', 'r')\n",
    "loaded_model_yaml = yaml_file.read()\n",
    "yaml_file.close()\n",
    "loaded_model = model_from_yaml(loaded_model_yaml)\n",
    "# load weights into new model\n",
    "loaded_model.load_weights(\"model_mnist_cnn_3.h5\")\n",
    "print(\"Loaded model from disk\")"
   ]
  },
  {
   "cell_type": "code",
   "execution_count": null,
   "metadata": {},
   "outputs": [],
   "source": [
    "# TODO:  Change this to loaded_model.predict_proba\n",
    "\n",
    "### Predictions on the selected input\n",
    "input_x = x_test[100:110]\n",
    "input_y = y_test[100:110]\n",
    "final_prediction = loaded_model.predict_classes(input_x)\n",
    "final_prediction_probability = loaded_model.predict_proba(input_x)\n",
    "\n",
    "print(final_prediction)"
   ]
  },
  {
   "cell_type": "markdown",
   "metadata": {},
   "source": [
    "### Lets ask Skater to help us with interpreting the the above build model"
   ]
  },
  {
   "cell_type": "code",
   "execution_count": null,
   "metadata": {},
   "outputs": [],
   "source": [
    "K.set_learning_phase(0)\n",
    "with DeepInterpreter(session=K.get_session()) as di:\n",
    "    # 1. Load the persisted model\n",
    "    # 2. Retrieve the input tensor from the loaded model\n",
    "    yaml_file = open('model_mnist_cnn_3.yaml', 'r')\n",
    "    loaded_model_yaml = yaml_file.read()\n",
    "    yaml_file.close()\n",
    "    loaded_model = model_from_yaml(loaded_model_yaml)\n",
    "    # load weights into new model\n",
    "    loaded_model.load_weights(\"model_mnist_cnn_3.h5\")\n",
    "    print(\"Loaded model from disk\")\n",
    "    input_tensor = loaded_model.layers[0].input\n",
    "    output_tensor = loaded_model.layers[-2].output\n",
    "    \n",
    "    # 3. We will using the last dense layer(pre-softmax) as the output layer\n",
    "    # 4. Instantiate a model with the new input and output tensor\n",
    "    new_model = Model(inputs=input_tensor, outputs=output_tensor)\n",
    "    target_tensor = new_model(input_tensor)\n",
    "    xs = input_x\n",
    "    ys = input_y\n",
    "    print(\"X shape: {}\".format(xs.shape))\n",
    "    print(\"Y shape: {}\".format(ys.shape))\n",
    "    # Original Predictions\n",
    "    print(loaded_model.predict_classes(xs))\n",
    "    relevance_scores = di.explain('elrp', target_tensor * ys, input_tensor, xs, use_case='image')\n",
    "    print(\"Relevance array shape {}\".format(relevance_scores.shape))"
   ]
  },
  {
   "cell_type": "markdown",
   "metadata": {},
   "source": [
    "#### Visualize interpretation"
   ]
  },
  {
   "cell_type": "code",
   "execution_count": null,
   "metadata": {},
   "outputs": [],
   "source": [
    "# Visualize the relevance computed\n",
    "%matplotlib inline\n",
    "# set the properties for text\n",
    "font = {'family': 'avenir',\n",
    "        'color':  'white',\n",
    "        'weight': 'normal',\n",
    "        'size': 14,\n",
    "        }\n",
    "\n",
    "n_cols = 4\n",
    "n_rows = int(len(relevance_scores) / 2)\n",
    "\n",
    "fig, axes = plt.subplots(nrows=n_rows, ncols=n_cols, figsize=(3*n_cols, 3*n_rows))\n",
    "fig.patch.set_facecolor('black')\n",
    "for i, a in enumerate(relevance_scores):\n",
    "    row, col = divmod(i, 2)\n",
    "    visualize(xs[i].reshape(28, 28), cmap='gray', axis=axes[row, col*2], \n",
    "              alpha_edges=1.0, alpha_bgcolor=1).set_title('Original', fontdict=font)\n",
    "    visualize(relevance_scores[i], xs[i], axis=axes[row, col*2+1], \n",
    "              alpha_edges=1.0, \n",
    "              alpha_bgcolor=0.75).set_title('Prediction/Confidence: {}/{}'.format(final_prediction[i], final_prediction_probability[i]), fontdict=font)\n",
    "    "
   ]
  },
  {
   "cell_type": "markdown",
   "metadata": {},
   "source": [
    "### Infer cause for in-corret predictions"
   ]
  },
  {
   "cell_type": "markdown",
   "metadata": {},
   "source": [
    "#### Query for in-correct predictions"
   ]
  },
  {
   "cell_type": "code",
   "execution_count": null,
   "metadata": {},
   "outputs": [],
   "source": [
    "predicted_classes = loaded_model.predict_classes(x_test)\n",
    "# Convert the predicted classes to categorical format for further comparison\n",
    "predicted_classes_categorical = [keras.utils.to_categorical(x_t, num_classes) for x_t in predicted_classes]\n",
    "\n",
    "# flatten the above list to match the format of y_test\n",
    "# Reference: https://stackoverflow.com/questions/952914/making-a-flat-list-out-of-list-of-lists-in-python\n",
    "flatten = lambda l: [item for sublist in l for item in sublist]\n",
    "predicted_classes = np.asarray(flatten(predicted_classes_categorical))\n",
    "\n",
    "#assert predicted_classes.shape == y_test.shape\n",
    "in_correct_prediction = np.where(predicted_classes != y_test)"
   ]
  },
  {
   "cell_type": "code",
   "execution_count": null,
   "metadata": {},
   "outputs": [],
   "source": [
    "index = 0\n",
    "print(\"Ground Truth: {}\".format(y_test[in_correct_prediction[0][index]]))\n",
    "print(\"Predicted Class {}\".format(predicted_classes[in_correct_prediction[0][index]]))"
   ]
  },
  {
   "cell_type": "markdown",
   "metadata": {},
   "source": [
    "##### Visualize an in-correct prediction"
   ]
  },
  {
   "cell_type": "code",
   "execution_count": null,
   "metadata": {},
   "outputs": [],
   "source": [
    "show_image(x_test[in_correct_prediction[0][index]].reshape(28, 28))"
   ]
  },
  {
   "cell_type": "markdown",
   "metadata": {},
   "source": [
    "#### Lets ask Skater to help us with interpreting the the above build model"
   ]
  },
  {
   "cell_type": "code",
   "execution_count": null,
   "metadata": {},
   "outputs": [],
   "source": [
    "# In-correct input\n",
    "input_x_i = np.array([x_test[in_correct_prediction[0][index]], x_test[100:101][0], x_test[101:102][0]])\n",
    "input_y_i = np.array([y_test[in_correct_prediction[0][index]], y_test[100:101][0], y_test[101:102][0]])\n",
    "\n",
    "n_rows = 1\n",
    "K.set_learning_phase(0)\n",
    "with DeepInterpreter(session=K.get_session()) as di:\n",
    "    # 1. Load the persisted model\n",
    "    # 2. Retrieve the input tensor from the loaded model\n",
    "    yaml_file = open('model_mnist_cnn_3.yaml', 'r')\n",
    "    loaded_model_yaml = yaml_file.read()\n",
    "    yaml_file.close()\n",
    "    loaded_model = model_from_yaml(loaded_model_yaml)\n",
    "    # load weights into new model\n",
    "    loaded_model.load_weights(\"model_mnist_cnn_3.h5\")\n",
    "    print(\"Loaded model from disk\")\n",
    "    input_tensor = loaded_model.layers[0].input\n",
    "    output_tensor = loaded_model.layers[-2].output\n",
    "    \n",
    "    # 3. We will using the last dense layer(pre-softmax) as the output layer\n",
    "    # 4. Instantiate a model with the new input and output tensor\n",
    "    new_model = Model(inputs=input_tensor, outputs=output_tensor)\n",
    "    target_tensor = new_model(input_tensor)\n",
    "    xs = input_x_i\n",
    "    ys = input_y_i\n",
    "    print(\"X shape: {}\".format(xs.shape))\n",
    "    print(\"Y shape: {}\".format(ys.shape))\n",
    "    # Original Predictions\n",
    "    print(\"Predicted Class: {}\".format(loaded_model.predict_classes(xs)))\n",
    "    relevance_scores = di.explain('elrp', target_tensor * ys, input_tensor, xs, use_case='image')"
   ]
  },
  {
   "cell_type": "markdown",
   "metadata": {},
   "source": [
    "#### Visualize interpretation"
   ]
  },
  {
   "cell_type": "code",
   "execution_count": null,
   "metadata": {},
   "outputs": [],
   "source": [
    "predicted_class = loaded_model.predict_classes(input_x_i)\n",
    "# Visualize the relevance computed\n",
    "%matplotlib inline\n",
    "# set the properties for text\n",
    "font = {'family': 'avenir',\n",
    "        'color':  'white',\n",
    "        'weight': 'normal',\n",
    "        'size': 14,\n",
    "        }\n",
    "\n",
    "fig, axes = plt.subplots(nrows=3, ncols=2, figsize=(12, 8*2))\n",
    "print(axes.shape)\n",
    "fig.patch.set_facecolor('black')\n",
    "for index in range(len(relevance_scores)):\n",
    "    visualize(input_x_i[index].reshape(28, 28), cmap='gray', axis=axes[index][0], \n",
    "              alpha_edges=1.0, alpha_bgcolor=1).set_title('Original: {}'.format(input_y_i[index]), fontdict=font)\n",
    "\n",
    "    visualize(relevance_scores[index], input_x_i[index], axis=axes[index][1], alpha_edges=1.0, \n",
    "              alpha_bgcolor=0.75).set_title('Prediction: {}'.format(predicted_class[index]), \n",
    "                                            fontdict=font)"
   ]
  },
  {
   "cell_type": "markdown",
   "metadata": {},
   "source": [
    "### Generate adversarial example"
   ]
  },
  {
   "cell_type": "markdown",
   "metadata": {},
   "source": [
    "#### 1. Measuring sensitivity by flipping pixels"
   ]
  },
  {
   "cell_type": "code",
   "execution_count": null,
   "metadata": {},
   "outputs": [],
   "source": [
    "# Original test image used for model evaluation, can we identify the blind spots\n",
    "%matplotlib inline\n",
    "an_img = xs = x_test[103:104]\n",
    "print(an_img.shape)\n",
    "show_image(normalize(an_img[0]).reshape(28, 28))"
   ]
  },
  {
   "cell_type": "code",
   "execution_count": null,
   "metadata": {},
   "outputs": [],
   "source": [
    "input_x_i = an_img\n",
    "input_y_i = y_test[103:104]\n",
    "K.set_learning_phase(0)\n",
    "with DeepInterpreter(session=K.get_session()) as di:\n",
    "    # 1. Load the persisted model\n",
    "    # 2. Retrieve the input tensor from the loaded model\n",
    "    yaml_file = open('model_mnist_cnn_3.yaml', 'r')\n",
    "    loaded_model_yaml = yaml_file.read()\n",
    "    yaml_file.close()\n",
    "    loaded_model = model_from_yaml(loaded_model_yaml)\n",
    "    # load weights into new model\n",
    "    loaded_model.load_weights(\"model_mnist_cnn_3.h5\")\n",
    "    print(\"Loaded model from disk\")\n",
    "    input_tensor = loaded_model.layers[0].input\n",
    "    output_tensor = loaded_model.layers[-2].output\n",
    "    \n",
    "    # 3. We will using the last dense layer(pre-softmax) as the output layer\n",
    "    # 4. Instantiate a model with the new input and output tensor\n",
    "    new_model = Model(inputs=input_tensor, outputs=output_tensor)\n",
    "    target_tensor = new_model(input_tensor)\n",
    "    xs = input_x_i\n",
    "    ys = input_y_i\n",
    "    print(\"X shape: {}\".format(xs.shape))\n",
    "    print(\"Y shape: {}\".format(ys.shape))\n",
    "    # Original Predictions\n",
    "    print(\"Predicted Class: {}\".format(np.around(loaded_model.predict_proba(xs), decimals=5)))\n",
    "    relevance_scores = di.explain('elrp', target_tensor * ys, input_tensor, xs, use_case='image')\n",
    "    \n",
    "    \n",
    "K.set_learning_phase(0)\n",
    "with DeepInterpreter(session=K.get_session()) as di:\n",
    "    # 1. Load the persisted model\n",
    "    # 2. Retrieve the input tensor from the loaded model\n",
    "    retrieved_model = loaded_model\n",
    "    input_tensor = retrieved_model.layers[0].input\n",
    "    output_tensor = retrieved_model.layers[-2].output\n",
    "    \n",
    "    # 3. We will using the last dense layer(pre-softmax) as the output layer\n",
    "    # 4. Instantiate a model with the new input and output tensor\n",
    "    new_model = Model(inputs=input_tensor, outputs=output_tensor)\n",
    "    target_tensor = new_model(input_tensor)\n",
    "    relevance_scores = di.explain('elrp', target_tensor * ys, input_tensor, xs, use_case='image')\n",
    "    \n",
    "visualize(relevance_scores[0], xs[0], axis=plt, alpha_edges=1.0, alpha_bgcolor=0.75)"
   ]
  },
  {
   "cell_type": "code",
   "execution_count": null,
   "metadata": {},
   "outputs": [],
   "source": [
    "X = normalize(an_img[0]).reshape(28,28)\n",
    "n_in_img = flip_pixels(X, 660, filtered_pixel=in_between(X, 0, 0.2), replace_with=1)\n",
    "show_image(n_in_img, title='Image with Distortion')"
   ]
  },
  {
   "cell_type": "code",
   "execution_count": null,
   "metadata": {},
   "outputs": [],
   "source": [
    "an_img_x = n_in_img.reshape(1, 28, 28, 1)\n",
    "an_img_y = np.zeros(10).astype(np.int64)\n",
    "an_img_y[4] = 1\n",
    "an_img_y = an_img_y.reshape(1, an_img_y.shape[0])\n",
    "print(\"X input shape : {}\".format(an_img_x.shape))\n",
    "print(\"Y input shape : {}\".format(an_img_y.shape))\n",
    "\n",
    "print(\"Predicted Label : {}\".format(loaded_model.predict_proba(an_img)))\n",
    "\n",
    "\n",
    "K.set_learning_phase(0)\n",
    "with DeepInterpreter(session=K.get_session()) as di:\n",
    "    # 1. Load the persisted model\n",
    "    # 2. Retrieve the input tensor from the loaded model\n",
    "    retrieved_model = loaded_model\n",
    "    input_tensor = retrieved_model.layers[0].input\n",
    "    output_tensor = retrieved_model.layers[-2].output\n",
    "    \n",
    "    # 3. We will using the last dense layer(pre-softmax) as the output layer\n",
    "    # 4. Instantiate a model with the new input and output tensor\n",
    "    new_model = Model(inputs=input_tensor, outputs=output_tensor)\n",
    "    target_tensor = new_model(input_tensor)\n",
    "    xs = an_img_x\n",
    "    ys = an_img_y\n",
    "    relevance_scores = di.explain('elrp', target_tensor * ys, input_tensor, xs, use_case='image')"
   ]
  },
  {
   "cell_type": "code",
   "execution_count": null,
   "metadata": {},
   "outputs": [],
   "source": [
    "visualize(relevance_scores[0], xs[0], axis=plt, alpha_edges=1.0, alpha_bgcolor=0.75)"
   ]
  },
  {
   "cell_type": "code",
   "execution_count": null,
   "metadata": {},
   "outputs": [],
   "source": []
  }
 ],
 "metadata": {
  "kernelspec": {
   "display_name": "Python 3",
   "language": "python",
   "name": "python3"
  },
  "language_info": {
   "codemirror_mode": {
    "name": "ipython",
    "version": 3
   },
   "file_extension": ".py",
   "mimetype": "text/x-python",
   "name": "python",
   "nbconvert_exporter": "python",
   "pygments_lexer": "ipython3",
   "version": "3.6.5"
  }
 },
 "nbformat": 4,
 "nbformat_minor": 2
}
