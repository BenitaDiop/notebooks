{
 "cells": [
  {
   "cell_type": "markdown",
   "metadata": {},
   "source": [
    "# Deploy Spark Model to PipelineAI\n",
    "\n",
    "You will need to fill in the unique values for the following:\n",
    "* `<YOUR_USER_ID>`  - 8 character id that uniquely identifies the PipelineAI user.  You will see the UserId in the upper right hand corner of the Settings tab after you login to [PipelineAI Community Edition](https://community.cloud.pipeline.ai)\n",
    "* `<YOUR_API_TOKEN>`  - 8 character id that uniquely identifies the PipelineAI user.  You will see the UserId in the upper right hand corner of the Settings tab after you login to [PipelineAI Community Edition](https://community.cloud.pipeline.ai)\n",
    "\n",
    "![user-id](https://pipeline.ai/assets/img/user-id.png)\n",
    "\n",
    "```\n",
    "pipeline resource-upload --host community.cloud.pipeline.ai \\\n",
    "  --api-token <YOUR_API_TOKEN> \\\n",
    "  --user-id <YOUR_USER_ID> \\\n",
    "  --resource-type spark \\\n",
    "  --resource-subtype spark \\\n",
    "  --name sparkpi \\\n",
    "  --tag v1 \\\n",
    "  --path ./spark_model\n",
    "```\n",
    "\n",
    "Actions performed:\n",
    "* Compress resource source code into a tar archive.\n",
    "* Create required directories and generate deployment and service resource definitions.\n",
    "* Initialize training resource\n",
    "\n",
    "# Optimize and Deploy the Model\n",
    "You can optimize (select one or more chips and/or one or more runtimes) and deploy your model using the CLI or the [UI](https://community.cloud.pipeline.ai) (Choose either the CLI or UI).\n"
   ]
  },
  {
   "cell_type": "code",
   "execution_count": null,
   "metadata": {},
   "outputs": [],
   "source": [
    "%%bash \n",
    "\n",
    "pipeline resource-upload --host community.cloud.pipeline.ai \\\n",
    " --api-token <YOUR_API_TOKEN> \\\n",
    " --user-id <YOUR_USER_ID> \\\n",
    " --resource-type spark \\\n",
    " --resource-subtype spark \\\n",
    " --name sparkpi \\\n",
    " --tag v1 \\\n",
    " --path ./spark_model"
   ]
  },
  {
   "cell_type": "markdown",
   "metadata": {},
   "source": [
    "# Navigate to https://community.pipeline.ai and Start Your Spark Job!"
   ]
  },
  {
   "cell_type": "code",
   "execution_count": null,
   "metadata": {},
   "outputs": [],
   "source": []
  }
 ],
 "metadata": {
  "kernelspec": {
   "display_name": "Python 3",
   "language": "python",
   "name": "python3"
  },
  "language_info": {
   "codemirror_mode": {
    "name": "ipython",
    "version": 3
   },
   "file_extension": ".py",
   "mimetype": "text/x-python",
   "name": "python",
   "nbconvert_exporter": "python",
   "pygments_lexer": "ipython3",
   "version": "3.6.6"
  }
 },
 "nbformat": 4,
 "nbformat_minor": 2
}
