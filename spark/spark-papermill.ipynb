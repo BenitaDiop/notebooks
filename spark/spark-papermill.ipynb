{
 "cells": [
  {
   "cell_type": "code",
   "execution_count": null,
   "metadata": {},
   "outputs": [],
   "source": [
    "import papermill as pm\n",
    "\n",
    "input_notebook_name = './spark-pi.ipynb'\n",
    "output_notebook_name = 'spark-pi-output.ipynb'\n",
    "\n",
    "output_notebook_contents = pm.execute_notebook(\n",
    "   input_notebook_name,\n",
    "   output_notebook_name,\n",
    "   parameters = dict(partitions=3)\n",
    ")\n",
    "\n",
    "nb = pm.read_notebook(output_notebook_name)\n",
    "\n",
    "print(nb.dataframe)"
   ]
  },
  {
   "cell_type": "markdown",
   "metadata": {},
   "source": [
    "# See `spark-pi-output.ipynb` in the left nav"
   ]
  },
  {
   "cell_type": "code",
   "execution_count": null,
   "metadata": {},
   "outputs": [],
   "source": []
  }
 ],
 "metadata": {
  "kernelspec": {
   "display_name": "Python 3",
   "language": "python",
   "name": "python3"
  },
  "language_info": {
   "codemirror_mode": {
    "name": "ipython",
    "version": 3
   },
   "file_extension": ".py",
   "mimetype": "text/x-python",
   "name": "python",
   "nbconvert_exporter": "python",
   "pygments_lexer": "ipython3",
   "version": "3.6.6"
  }
 },
 "nbformat": 4,
 "nbformat_minor": 2
}
