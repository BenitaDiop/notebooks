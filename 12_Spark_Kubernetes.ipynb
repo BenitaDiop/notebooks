{
 "cells": [
  {
   "cell_type": "markdown",
   "metadata": {},
   "source": [
    "## Spark + Kubernetes\n",
    "https://spark.apache.org/docs/latest/running-on-kubernetes.html"
   ]
  },
  {
   "cell_type": "code",
   "execution_count": null,
   "metadata": {},
   "outputs": [],
   "source": [
    "%%bash \n",
    "\n",
    "export KUBERNETES_API_SERVER=https://172.31.33.165:6443\n",
    "\n",
    "spark-submit \\\n",
    "    --master k8s://$KUBERNETES_API_SERVER \\\n",
    "    --deploy-mode cluster \\\n",
    "    --name spark-pi \\\n",
    "    --class org.apache.spark.examples.SparkPi \\\n",
    "    --conf spark.executor.instances=1 \\\n",
    "    --conf spark.kubernetes.container.image=pipelineai/spark:2.4.0 \\\n",
    "    local:///opt/spark/examples/jars/spark-examples_2.11-2.4.0.jar"
   ]
  },
  {
   "cell_type": "code",
   "execution_count": null,
   "metadata": {},
   "outputs": [],
   "source": []
  }
 ],
 "metadata": {
  "kernelspec": {
   "display_name": "Python 3",
   "language": "python",
   "name": "python3"
  },
  "language_info": {
   "codemirror_mode": {
    "name": "ipython",
    "version": 3
   },
   "file_extension": ".py",
   "mimetype": "text/x-python",
   "name": "python",
   "nbconvert_exporter": "python",
   "pygments_lexer": "ipython3",
   "version": "3.6.6"
  }
 },
 "nbformat": 4,
 "nbformat_minor": 2
}
